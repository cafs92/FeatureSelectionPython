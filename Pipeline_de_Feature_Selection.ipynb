{
  "nbformat": 4,
  "nbformat_minor": 0,
  "metadata": {
    "colab": {
      "name": "Pipeline de Feature Selection",
      "provenance": [],
      "collapsed_sections": [],
      "authorship_tag": "ABX9TyPs45rhyblLRvijuAOCsccW",
      "include_colab_link": true
    },
    "kernelspec": {
      "name": "python3",
      "display_name": "Python 3"
    },
    "language_info": {
      "name": "python"
    }
  },
  "cells": [
    {
      "cell_type": "markdown",
      "metadata": {
        "id": "view-in-github",
        "colab_type": "text"
      },
      "source": [
        "<a href=\"https://colab.research.google.com/github/cafs92/FeatureSelectionPython/blob/master/Pipeline_de_Feature_Selection.ipynb\" target=\"_parent\"><img src=\"https://colab.research.google.com/assets/colab-badge.svg\" alt=\"Open In Colab\"/></a>"
      ]
    },
    {
      "cell_type": "markdown",
      "metadata": {
        "id": "iHUNHDwC_sHG"
      },
      "source": [
        "#Imports e filtro de dataset\n"
      ]
    },
    {
      "cell_type": "code",
      "metadata": {
        "colab": {
          "base_uri": "https://localhost:8080/"
        },
        "id": "oe04j35KnIuO",
        "outputId": "30a88831-da6e-4710-8074-642c67b4a0c0"
      },
      "source": [
        "import pandas as pd\n",
        "import numpy as np\n",
        "from sklearn.model_selection import train_test_split\n",
        "from sklearn.feature_selection import VarianceThreshold,  SelectKBest, f_classif\n",
        "pd.set_option('display.max_rows', None)\n",
        "pd.set_option('display.max_columns', None)\n",
        "pd.set_option('display.width', None)\n",
        "pd.set_option('display.max_colwidth', -1)"
      ],
      "execution_count": 154,
      "outputs": [
        {
          "output_type": "stream",
          "text": [
            "/usr/local/lib/python3.7/dist-packages/ipykernel_launcher.py:8: FutureWarning: Passing a negative integer is deprecated in version 1.0 and will not be supported in future version. Instead, use None to not limit the column width.\n",
            "  \n"
          ],
          "name": "stderr"
        }
      ]
    },
    {
      "cell_type": "code",
      "metadata": {
        "id": "_-SjjjqykL8Y"
      },
      "source": [
        "def top_features(mask, feature_names):\n",
        "  new_features = [] # The list of your K best features\n",
        "\n",
        "  for bool, feature in zip(mask, feature_names):\n",
        "      if bool:\n",
        "          new_features.append(feature)\n",
        "  return {'Feature Selected': new_features}"
      ],
      "execution_count": 155,
      "outputs": []
    },
    {
      "cell_type": "code",
      "metadata": {
        "colab": {
          "base_uri": "https://localhost:8080/"
        },
        "id": "zsz5YkeQtE0F",
        "outputId": "ae1b0af2-08a0-44c3-ef8e-595b82c94921"
      },
      "source": [
        "ds = pd.read_csv('/content/Chagas - Dataset Novo - ufrj-revisada.csv')\n",
        "ds_processed = ds.drop([  'Filename','Data MS','DIAS HOLTER-MS','Paciente', 'Unnamed: 7',\n",
        "                          'Nome do Paciente','Prontuario','Date Nasc ','Data Holter','Nat.', 'Cardiopatia Outra', \n",
        "                          'Embolia Pulmonar', 'ECG ', 'FC', 'Holter', 'ECO', 'Obito', 'OBSERVACOES', 'STATUS_OBITO',\n",
        "                          'CHECK Nome', 'Nome do Paciente Excell', 'CHECK MS', 'Morte Súbita Excell', 'Data MS Excell',\n",
        "                          'OBS Excell'\n",
        "                          ], axis = 1)\n",
        "ds_clean_status = ds_processed['STATUS'] == \"COMPLETO\" #Filtrar pra pegar dados clínicos + holter\n",
        "ds_clean_last_holter = ds_processed['Last Holter'] == 1\n",
        "ds_models = ds_processed[ds_clean_status & ds_clean_last_holter]\n",
        "ds_models = ds_models.drop(['STATUS','Last Holter'], axis = 1)\n",
        "ds_models[ds_models.isna().any(axis=1)] \n",
        "ds_models = ds_models.dropna(axis=0, how='any')\n",
        "\n",
        "ds_models.shape"
      ],
      "execution_count": 156,
      "outputs": [
        {
          "output_type": "execute_result",
          "data": {
            "text/plain": [
              "(217, 58)"
            ]
          },
          "metadata": {
            "tags": []
          },
          "execution_count": 156
        }
      ]
    },
    {
      "cell_type": "code",
      "metadata": {
        "colab": {
          "base_uri": "https://localhost:8080/"
        },
        "id": "fGa8hRIvNr9N",
        "outputId": "1edbad71-353e-499c-f891-ae1f23673dd1"
      },
      "source": [
        "#One Hot Encoding\n",
        "aux = pd.get_dummies(ds_models[['Classificação', 'Rassi escore', 'Diretriz 2005']])\n",
        "for i in aux.columns:\n",
        "  ds_models[i] = aux[i]\n",
        "\n",
        "ds_models = ds_models.drop(['Classificação', 'Rassi escore', 'Diretriz 2005'], axis = 1)\n",
        "ds_models.shape"
      ],
      "execution_count": 157,
      "outputs": [
        {
          "output_type": "execute_result",
          "data": {
            "text/plain": [
              "(217, 67)"
            ]
          },
          "metadata": {
            "tags": []
          },
          "execution_count": 157
        }
      ]
    },
    {
      "cell_type": "code",
      "metadata": {
        "id": "BPQpqIy0EhoG"
      },
      "source": [
        "train_features, test_features, train_labels, test_labels=train_test_split(\n",
        "    ds_models.drop(labels=['MS'], axis=1),\n",
        "    ds_models['MS'],\n",
        "    test_size=0.2,\n",
        "    random_state=42)"
      ],
      "execution_count": 158,
      "outputs": []
    },
    {
      "cell_type": "markdown",
      "metadata": {
        "id": "YSIQU3JP_ynz"
      },
      "source": [
        "# Constant Feature Removal"
      ]
    },
    {
      "cell_type": "code",
      "metadata": {
        "colab": {
          "base_uri": "https://localhost:8080/"
        },
        "id": "NmLftdNX_qGb",
        "outputId": "c0e4e0da-8381-41e1-f452-a094c46fa673"
      },
      "source": [
        "constant_filter = VarianceThreshold(threshold=0)\n",
        "constant_filter.fit(train_features)\n",
        "len(train_features.columns[constant_filter.get_support()])"
      ],
      "execution_count": 159,
      "outputs": [
        {
          "output_type": "execute_result",
          "data": {
            "text/plain": [
              "64"
            ]
          },
          "metadata": {
            "tags": []
          },
          "execution_count": 159
        }
      ]
    },
    {
      "cell_type": "code",
      "metadata": {
        "colab": {
          "base_uri": "https://localhost:8080/"
        },
        "id": "4FgXjYJwQUtI",
        "outputId": "5ba24597-54f2-41a9-ce2c-4366a6a4bb02"
      },
      "source": [
        "constant_columns = [column for column in train_features.columns\n",
        "                    if column not in train_features.columns[constant_filter.get_support()]]\n",
        "constant_columns"
      ],
      "execution_count": 160,
      "outputs": [
        {
          "output_type": "execute_result",
          "data": {
            "text/plain": [
              "['Last Exam', 'TVS_H']"
            ]
          },
          "metadata": {
            "tags": []
          },
          "execution_count": 160
        }
      ]
    },
    {
      "cell_type": "code",
      "metadata": {
        "colab": {
          "base_uri": "https://localhost:8080/"
        },
        "id": "QdOSXGj1Rx-z",
        "outputId": "f835de3c-9c85-4dba-b6be-a404f06642af"
      },
      "source": [
        "train_features = constant_filter.transform(train_features)\n",
        "test_features = constant_filter.transform(test_features)\n",
        "\n",
        "train_features.shape, test_features.shape"
      ],
      "execution_count": 161,
      "outputs": [
        {
          "output_type": "execute_result",
          "data": {
            "text/plain": [
              "((173, 64), (44, 64))"
            ]
          },
          "metadata": {
            "tags": []
          },
          "execution_count": 161
        }
      ]
    },
    {
      "cell_type": "code",
      "metadata": {
        "id": "O0y9WLHwsVdC"
      },
      "source": [
        "ds_models = ds_models.drop(constant_columns, axis = 1)"
      ],
      "execution_count": 162,
      "outputs": []
    },
    {
      "cell_type": "markdown",
      "metadata": {
        "id": "1GJaklKfRn-t"
      },
      "source": [
        "#Quasi-Constant Feature Removal"
      ]
    },
    {
      "cell_type": "code",
      "metadata": {
        "id": "v2nkJJORDjJM"
      },
      "source": [
        "train_features, test_features, train_labels, test_labels=train_test_split(\n",
        "    ds_models.drop(labels=['MS'], axis=1),\n",
        "    ds_models['MS'],\n",
        "    test_size=0.2,\n",
        "    random_state=42)"
      ],
      "execution_count": 163,
      "outputs": []
    },
    {
      "cell_type": "code",
      "metadata": {
        "colab": {
          "base_uri": "https://localhost:8080/"
        },
        "id": "fiqlp55PRqxA",
        "outputId": "b190d73e-a3b2-48c9-9a96-5b02cee804f2"
      },
      "source": [
        "qconstant_filter = VarianceThreshold(threshold=0.01)\n",
        "qconstant_filter.fit(train_features)\n",
        "len(train_features.columns[qconstant_filter.get_support()])"
      ],
      "execution_count": 164,
      "outputs": [
        {
          "output_type": "execute_result",
          "data": {
            "text/plain": [
              "62"
            ]
          },
          "metadata": {
            "tags": []
          },
          "execution_count": 164
        }
      ]
    },
    {
      "cell_type": "code",
      "metadata": {
        "colab": {
          "base_uri": "https://localhost:8080/"
        },
        "id": "aKLTLA6xlVDE",
        "outputId": "c146c99b-9e9a-4ec4-f02f-3e5605e7cd31"
      },
      "source": [
        "qconstant_columns = [column for column in train_features.columns\n",
        "                    if column not in train_features.columns[qconstant_filter.get_support()]]\n",
        "qconstant_columns"
      ],
      "execution_count": 165,
      "outputs": [
        {
          "output_type": "execute_result",
          "data": {
            "text/plain": [
              "['Alcoolismo', 'Rassi escore_Baixo']"
            ]
          },
          "metadata": {
            "tags": []
          },
          "execution_count": 165
        }
      ]
    },
    {
      "cell_type": "code",
      "metadata": {
        "colab": {
          "base_uri": "https://localhost:8080/"
        },
        "id": "1Pr0-t6klYRt",
        "outputId": "f961d426-bc8f-4637-89ba-05e4e2a500a8"
      },
      "source": [
        "train_features = qconstant_filter.transform(train_features)\n",
        "test_features = qconstant_filter.transform(test_features)\n",
        "\n",
        "train_features.shape, test_features.shape"
      ],
      "execution_count": 166,
      "outputs": [
        {
          "output_type": "execute_result",
          "data": {
            "text/plain": [
              "((173, 62), (44, 62))"
            ]
          },
          "metadata": {
            "tags": []
          },
          "execution_count": 166
        }
      ]
    },
    {
      "cell_type": "code",
      "metadata": {
        "id": "u4VlilFdscp_"
      },
      "source": [
        "ds_models = ds_models.drop(qconstant_columns, axis = 1)"
      ],
      "execution_count": 167,
      "outputs": []
    },
    {
      "cell_type": "markdown",
      "metadata": {
        "id": "oRuAHrcku4KJ"
      },
      "source": [
        "# Redundant Feature Removal"
      ]
    },
    {
      "cell_type": "code",
      "metadata": {
        "id": "-Dqc5YPMDleE"
      },
      "source": [
        "train_features, test_features, train_labels, test_labels=train_test_split(\n",
        "    ds_models.drop(labels=['MS'], axis=1),\n",
        "    ds_models['MS'],\n",
        "    test_size=0.2,\n",
        "    random_state=42)"
      ],
      "execution_count": 168,
      "outputs": []
    },
    {
      "cell_type": "code",
      "metadata": {
        "colab": {
          "base_uri": "https://localhost:8080/"
        },
        "id": "saYnQUSpu-gJ",
        "outputId": "49e9ed4f-f699-4807-e8b6-7973da972edf"
      },
      "source": [
        "train_features_T = train_features.T\n",
        "train_features_T.shape"
      ],
      "execution_count": 169,
      "outputs": [
        {
          "output_type": "execute_result",
          "data": {
            "text/plain": [
              "(62, 173)"
            ]
          },
          "metadata": {
            "tags": []
          },
          "execution_count": 169
        }
      ]
    },
    {
      "cell_type": "code",
      "metadata": {
        "colab": {
          "base_uri": "https://localhost:8080/"
        },
        "id": "9VmpqVRY_3yc",
        "outputId": "59fbb5be-7978-42ff-d539-f46068000096"
      },
      "source": [
        "train_features_T.duplicated().sum()"
      ],
      "execution_count": 170,
      "outputs": [
        {
          "output_type": "execute_result",
          "data": {
            "text/plain": [
              "0"
            ]
          },
          "metadata": {
            "tags": []
          },
          "execution_count": 170
        }
      ]
    },
    {
      "cell_type": "code",
      "metadata": {
        "colab": {
          "base_uri": "https://localhost:8080/"
        },
        "id": "CohMEst6_9BM",
        "outputId": "f01defb1-10c6-4d84-9a37-4b621a412704"
      },
      "source": [
        "unique_features = train_features_T.drop_duplicates(keep='first').T\n",
        "unique_features.shape"
      ],
      "execution_count": 171,
      "outputs": [
        {
          "output_type": "execute_result",
          "data": {
            "text/plain": [
              "(173, 62)"
            ]
          },
          "metadata": {
            "tags": []
          },
          "execution_count": 171
        }
      ]
    },
    {
      "cell_type": "code",
      "metadata": {
        "colab": {
          "base_uri": "https://localhost:8080/"
        },
        "id": "Z9I94yVeHQwX",
        "outputId": "c2329fa9-e9d6-422f-a2da-c1d9d0d41b48"
      },
      "source": [
        "duplicated_features = [dup_col for dup_col in train_features.columns if dup_col not in unique_features.columns]\n",
        "duplicated_features"
      ],
      "execution_count": 172,
      "outputs": [
        {
          "output_type": "execute_result",
          "data": {
            "text/plain": [
              "[]"
            ]
          },
          "metadata": {
            "tags": []
          },
          "execution_count": 172
        }
      ]
    },
    {
      "cell_type": "code",
      "metadata": {
        "id": "AmkQy8sLsgoY"
      },
      "source": [
        "ds_models = ds_models.drop(duplicated_features, axis = 1)"
      ],
      "execution_count": 173,
      "outputs": []
    },
    {
      "cell_type": "markdown",
      "metadata": {
        "id": "9LAXweevQkJV"
      },
      "source": [
        "# Correlated Features Removal"
      ]
    },
    {
      "cell_type": "code",
      "metadata": {
        "colab": {
          "base_uri": "https://localhost:8080/"
        },
        "id": "KxVN2RATQpys",
        "outputId": "bc52bc05-f80d-42ff-8c8d-7cbec0a279f3"
      },
      "source": [
        "num_colums = ['int16', 'int32', 'int64', 'float16', 'float32', 'float64']\n",
        "numerical_columns = list(ds_models.select_dtypes(include=num_colums).columns)\n",
        "ds_models2 = ds_models[numerical_columns]\n",
        "ds_models2.shape"
      ],
      "execution_count": 174,
      "outputs": [
        {
          "output_type": "execute_result",
          "data": {
            "text/plain": [
              "(217, 52)"
            ]
          },
          "metadata": {
            "tags": []
          },
          "execution_count": 174
        }
      ]
    },
    {
      "cell_type": "markdown",
      "metadata": {
        "id": "AhokI7HFesDg"
      },
      "source": [
        "Interessante ser o primeiro uma vez que o cara no tutorial faz isso de novo lá"
      ]
    },
    {
      "cell_type": "code",
      "metadata": {
        "id": "jriS3KRVd0XA"
      },
      "source": [
        "train_features2, test_features2, train_labels2, test_labels2 = train_test_split(\n",
        "    ds_models2.drop(labels=['MS'], axis=1),\n",
        "    ds_models2['MS'],\n",
        "    test_size=0.2,\n",
        "    random_state=42)"
      ],
      "execution_count": 175,
      "outputs": []
    },
    {
      "cell_type": "code",
      "metadata": {
        "id": "dhFxg9UyeriD"
      },
      "source": [
        "correlated_features = set()\n",
        "correlation_matrix = ds_models2.corr()"
      ],
      "execution_count": 176,
      "outputs": []
    },
    {
      "cell_type": "code",
      "metadata": {
        "colab": {
          "base_uri": "https://localhost:8080/"
        },
        "id": "xclmxntue81M",
        "outputId": "42e4d5af-f14e-4242-fd45-de2637c89303"
      },
      "source": [
        "for i in range(len(correlation_matrix.columns)):\n",
        "    for j in range(i):\n",
        "        if abs(correlation_matrix.iloc[i, j]) > 0.8:\n",
        "            colname = correlation_matrix.columns[i]\n",
        "            correlated_features.add(colname)\n",
        "correlated_features"
      ],
      "execution_count": 177,
      "outputs": [
        {
          "output_type": "execute_result",
          "data": {
            "text/plain": [
              "{'Disf Diastolica',\n",
              " 'Dist Cond AtrioVent ',\n",
              " 'EVTotal_H',\n",
              " 'FE Teicholz',\n",
              " 'Rassi pontos',\n",
              " 'TVMNS_H',\n",
              " 'TpeakQ 5th Percentile (s)',\n",
              " 'VES'}"
            ]
          },
          "metadata": {
            "tags": []
          },
          "execution_count": 177
        }
      ]
    },
    {
      "cell_type": "code",
      "metadata": {
        "colab": {
          "base_uri": "https://localhost:8080/"
        },
        "id": "7aXXrcOSwKWp",
        "outputId": "678a705b-79bb-4cf4-d33a-85e438480cb7"
      },
      "source": [
        "train_features2.drop(labels=correlated_features, axis=1, inplace=True)\n",
        "test_features2.drop(labels=correlated_features, axis=1, inplace=True)\n",
        "\n",
        "train_features2.shape"
      ],
      "execution_count": 178,
      "outputs": [
        {
          "output_type": "execute_result",
          "data": {
            "text/plain": [
              "(173, 43)"
            ]
          },
          "metadata": {
            "tags": []
          },
          "execution_count": 178
        }
      ]
    },
    {
      "cell_type": "code",
      "metadata": {
        "id": "Pe4FbHDJslBn"
      },
      "source": [
        "ds_models = ds_models.drop(correlated_features, axis = 1)"
      ],
      "execution_count": 179,
      "outputs": []
    },
    {
      "cell_type": "code",
      "metadata": {
        "colab": {
          "base_uri": "https://localhost:8080/"
        },
        "id": "GwoOSHret-2N",
        "outputId": "fb51781f-325b-4af2-f685-7e951d023b2e"
      },
      "source": [
        "ds_models.columns"
      ],
      "execution_count": 183,
      "outputs": [
        {
          "output_type": "execute_result",
          "data": {
            "text/plain": [
              "Index(['Sexo', 'BMI ', 'Cancer', 'HAS', 'DM2', 'Marcapasso', 'Sincope',\n",
              "       'Fibrilação/Flutter Atrial', 'I R Crônica', 'DLP', 'Coronariopatia',\n",
              "       'Ins Cardiaca ', 'AVC', 'DVP', 'TSH', 'Tabagismo', 'Sedentarismo',\n",
              "       'Alt Prim', 'Dist Cond InterVent ', 'Pausa > 3s ', 'ESV', 'EV', 'TVMNS',\n",
              "       'Area Elet inativa', 'Dist Cond AtrioVent_H', 'Disf Nodulo Sinusal_H',\n",
              "       'Fibri/Flutter Atrial_H', 'FC media_H', 'EV_H', 'AE diam.', 'VED',\n",
              "       'Deficit Seg', 'NYHA', 'CDI ', 'Ablações', 'Amiodarona', 'MS',\n",
              "       'Idade no exame', 'TendQ 5th Percentile (s)',\n",
              "       'Percentage (%) of beats with QTend/TendQ > 1',\n",
              "       'Percentage (%) of beats with QTpeak/TpeakQ > 1',\n",
              "       'Upper 98% quantil of the QTend/TendQ ratio',\n",
              "       'Upper 98% quantil of the QTpeak/TpeakQ ratio',\n",
              "       'Tpeak-Tend 5th-Percentile (ms)', 'Classificação_Disf Grave',\n",
              "       'Classificação_Disf Leve', 'Classificação_Disf Moderada',\n",
              "       'Classificação_Normal', 'Rassi escore_alto', 'Rassi escore_baixo',\n",
              "       'Rassi escore_intermediario', 'Diretriz 2005_A', 'Diretriz 2005_B1',\n",
              "       'Diretriz 2005_B2', 'Diretriz 2005_C'],\n",
              "      dtype='object')"
            ]
          },
          "metadata": {
            "tags": []
          },
          "execution_count": 183
        }
      ]
    },
    {
      "cell_type": "markdown",
      "metadata": {
        "id": "5wnQeWBgcAC6"
      },
      "source": [
        "# Continuação do Pipeline"
      ]
    },
    {
      "cell_type": "code",
      "metadata": {
        "colab": {
          "base_uri": "https://localhost:8080/"
        },
        "id": "P7yWy69_bs0C",
        "outputId": "809d504f-175c-4293-9bf6-41d4b4de7354"
      },
      "source": [
        "constant_columns, qconstant_columns, duplicated_features, correlated_features"
      ],
      "execution_count": 180,
      "outputs": [
        {
          "output_type": "execute_result",
          "data": {
            "text/plain": [
              "(['Last Exam', 'TVS_H'],\n",
              " ['Alcoolismo', 'Rassi escore_Baixo'],\n",
              " [],\n",
              " {'Disf Diastolica',\n",
              "  'Dist Cond AtrioVent ',\n",
              "  'EVTotal_H',\n",
              "  'FE Teicholz',\n",
              "  'Rassi pontos',\n",
              "  'TVMNS_H',\n",
              "  'TpeakQ 5th Percentile (s)',\n",
              "  'VES'})"
            ]
          },
          "metadata": {
            "tags": []
          },
          "execution_count": 180
        }
      ]
    },
    {
      "cell_type": "code",
      "metadata": {
        "id": "iNeKYZc9dGfs"
      },
      "source": [
        "train_features, test_features, train_labels, test_labels=train_test_split(\n",
        "    ds_models.drop(labels=['MS'], axis=1),\n",
        "    ds_models['MS'],\n",
        "    test_size=0.2,\n",
        "    random_state=42)"
      ],
      "execution_count": 181,
      "outputs": []
    },
    {
      "cell_type": "code",
      "metadata": {
        "colab": {
          "base_uri": "https://localhost:8080/"
        },
        "id": "zxH5gWgYspXJ",
        "outputId": "388b7483-826e-4306-95fd-181d246aeed7"
      },
      "source": [
        "anova = SelectKBest(score_func=f_classif, k=25)\n",
        "X_selected_anova = anova.fit_transform(train_features, train_labels)\n",
        "selected_anova = top_features(anova.get_support(), ds_models.columns)\n",
        "\n",
        "selected_anova"
      ],
      "execution_count": 182,
      "outputs": [
        {
          "output_type": "execute_result",
          "data": {
            "text/plain": [
              "{'Feature Selected': ['HAS',\n",
              "  'Sincope',\n",
              "  'DVP',\n",
              "  'Alt Prim',\n",
              "  'ESV',\n",
              "  'EV',\n",
              "  'TVMNS',\n",
              "  'FC media_H',\n",
              "  'EV_H',\n",
              "  'AE diam.',\n",
              "  'VED',\n",
              "  'Deficit Seg',\n",
              "  'NYHA',\n",
              "  'Amiodarona',\n",
              "  'MS',\n",
              "  'Percentage (%) of beats with QTend/TendQ > 1',\n",
              "  'Upper 98% quantil of the QTpeak/TpeakQ ratio',\n",
              "  'Classificação_Disf Leve',\n",
              "  'Classificação_Disf Moderada',\n",
              "  'Classificação_Normal',\n",
              "  'Rassi escore_alto',\n",
              "  'Rassi escore_baixo',\n",
              "  'Rassi escore_intermediario',\n",
              "  'Diretriz 2005_A',\n",
              "  'Diretriz 2005_B1']}"
            ]
          },
          "metadata": {
            "tags": []
          },
          "execution_count": 182
        }
      ]
    }
  ]
}